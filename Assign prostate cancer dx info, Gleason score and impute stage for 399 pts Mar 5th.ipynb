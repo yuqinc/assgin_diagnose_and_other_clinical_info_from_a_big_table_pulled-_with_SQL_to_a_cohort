{
 "cells": [
  {
   "cell_type": "markdown",
   "metadata": {},
   "source": [
    "# README.md\n",
    "\n",
    "# Research question: for these 399 pts what are dx, age, race etc info?"
   ]
  },
  {
   "cell_type": "markdown",
   "metadata": {},
   "source": [
    "## Table of Contents\n",
    "* [Read data, clean up and get stats](#first-bullet)\n",
    "* [Assign drug use status per row](#second-bullet)\n",
    "* [Assign Gleason_scores and imputed stages per row](#second-bullet)"
   ]
  },
  {
   "cell_type": "code",
   "execution_count": 3,
   "metadata": {},
   "outputs": [],
   "source": [
    "import numpy as np\n",
    "import pandas as pd\n",
    "import sys, getopt\n",
    "import csv\n",
    "from datetime import datetime\n",
    "import itertools\n",
    "\n",
    "import matplotlib.pyplot as plt\n",
    "from matplotlib import pyplot\n",
    "from pylab import *\n",
    "\n",
    "%matplotlib inline  \n",
    "import seaborn as sns"
   ]
  },
  {
   "cell_type": "markdown",
   "metadata": {},
   "source": [
    "# Read data, clean up and get stats <a class=\"anchor\" id=\"first-bullet\"></a>"
   ]
  },
  {
   "cell_type": "code",
   "execution_count": 5,
   "metadata": {
    "scrolled": true
   },
   "outputs": [
    {
     "data": {
      "text/html": [
       "<div>\n",
       "<style scoped>\n",
       "    .dataframe tbody tr th:only-of-type {\n",
       "        vertical-align: middle;\n",
       "    }\n",
       "\n",
       "    .dataframe tbody tr th {\n",
       "        vertical-align: top;\n",
       "    }\n",
       "\n",
       "    .dataframe thead th {\n",
       "        text-align: right;\n",
       "    }\n",
       "</style>\n",
       "<table border=\"1\" class=\"dataframe\">\n",
       "  <thead>\n",
       "    <tr style=\"text-align: right;\">\n",
       "      <th></th>\n",
       "      <th>person_id</th>\n",
       "      <th>cancer_type_id</th>\n",
       "      <th>year_of_diagnosis</th>\n",
       "      <th>month_of_diagnosis</th>\n",
       "      <th>day_of_diagnosis</th>\n",
       "      <th>gleason_score</th>\n",
       "      <th>psa</th>\n",
       "      <th>psa_date</th>\n",
       "    </tr>\n",
       "  </thead>\n",
       "  <tbody>\n",
       "    <tr>\n",
       "      <td>0</td>\n",
       "      <td>267</td>\n",
       "      <td>2</td>\n",
       "      <td>2015</td>\n",
       "      <td>4</td>\n",
       "      <td>3</td>\n",
       "      <td>9</td>\n",
       "      <td></td>\n",
       "      <td></td>\n",
       "    </tr>\n",
       "    <tr>\n",
       "      <td>1</td>\n",
       "      <td>339</td>\n",
       "      <td>2</td>\n",
       "      <td>2015</td>\n",
       "      <td>11</td>\n",
       "      <td>9</td>\n",
       "      <td>7</td>\n",
       "      <td></td>\n",
       "      <td></td>\n",
       "    </tr>\n",
       "    <tr>\n",
       "      <td>2</td>\n",
       "      <td>345</td>\n",
       "      <td>2</td>\n",
       "      <td>2018</td>\n",
       "      <td>4</td>\n",
       "      <td>24</td>\n",
       "      <td>7</td>\n",
       "      <td></td>\n",
       "      <td></td>\n",
       "    </tr>\n",
       "  </tbody>\n",
       "</table>\n",
       "</div>"
      ],
      "text/plain": [
       "   person_id  cancer_type_id  year_of_diagnosis month_of_diagnosis  \\\n",
       "0        267               2               2015                  4   \n",
       "1        339               2               2015                 11   \n",
       "2        345               2               2018                  4   \n",
       "\n",
       "  day_of_diagnosis gleason_score psa psa_date  \n",
       "0                3             9               \n",
       "1                9             7               \n",
       "2               24             7               "
      ]
     },
     "execution_count": 5,
     "metadata": {},
     "output_type": "execute_result"
    }
   ],
   "source": [
    "df1=pd.read_csv(\"./data/sean_sql_code_generated_full_pts_dxdate_demo_202103051650.csv\", header=0)\n",
    "#df1=pd.read_excel(\"_with_pts_ml_as_select_distinct_cc_person_id_cc_cancer_type_name_202102261747.xlsx\", header=0)\n",
    "#df2=pd.read_excel(\"pt_list.xlsx\", header=0)\n",
    "df2=pd.read_excel(\"./data/pt_list_all_rows.xlsx\", header=0) \n",
    "\n",
    "df1.fillna('', inplace=True)\n",
    "df1.replace(r'', np.NaN)\n",
    "df1[:3]\n",
    "\n",
    "df_gle=pd.read_csv(\"./data/gleason_score__202103031300.csv\", header=0)\n",
    "df_imp=pd.read_csv(\"./data/pca_patients_with_imputed_stage_info_202103031708.csv\", header=0)\n",
    "df_gle.fillna('', inplace=True)\n",
    "df_gle.replace(r'', np.NaN)\n",
    "\n",
    "df_imp.fillna('', inplace=True)\n",
    "df_imp.replace(r'', np.NaN)\n",
    "df_gle[:3]"
   ]
  },
  {
   "cell_type": "code",
   "execution_count": 6,
   "metadata": {},
   "outputs": [
    {
     "data": {
      "text/html": [
       "<div>\n",
       "<style scoped>\n",
       "    .dataframe tbody tr th:only-of-type {\n",
       "        vertical-align: middle;\n",
       "    }\n",
       "\n",
       "    .dataframe tbody tr th {\n",
       "        vertical-align: top;\n",
       "    }\n",
       "\n",
       "    .dataframe thead th {\n",
       "        text-align: right;\n",
       "    }\n",
       "</style>\n",
       "<table border=\"1\" class=\"dataframe\">\n",
       "  <thead>\n",
       "    <tr style=\"text-align: right;\">\n",
       "      <th></th>\n",
       "      <th>person_id</th>\n",
       "      <th>imputed_stage</th>\n",
       "    </tr>\n",
       "  </thead>\n",
       "  <tbody>\n",
       "    <tr>\n",
       "      <td>0</td>\n",
       "      <td>267</td>\n",
       "      <td>III</td>\n",
       "    </tr>\n",
       "    <tr>\n",
       "      <td>1</td>\n",
       "      <td>339</td>\n",
       "      <td>III</td>\n",
       "    </tr>\n",
       "    <tr>\n",
       "      <td>2</td>\n",
       "      <td>345</td>\n",
       "      <td>IIIB</td>\n",
       "    </tr>\n",
       "  </tbody>\n",
       "</table>\n",
       "</div>"
      ],
      "text/plain": [
       "   person_id imputed_stage\n",
       "0        267           III\n",
       "1        339           III\n",
       "2        345          IIIB"
      ]
     },
     "execution_count": 6,
     "metadata": {},
     "output_type": "execute_result"
    }
   ],
   "source": [
    "df_imp[:3]"
   ]
  },
  {
   "cell_type": "code",
   "execution_count": 7,
   "metadata": {},
   "outputs": [
    {
     "name": "stdout",
     "output_type": "stream",
     "text": [
      "899\n",
      "399\n"
     ]
    }
   ],
   "source": [
    "result_pt_list=df2[\"person_id\"].to_list()\n",
    "result_row_list=df2[\"person_id\"].to_list()\n",
    "\n",
    "df2[:5]\n",
    "#print(len(result_pt_list))\n",
    "print(len(result_row_list))\n",
    "\n",
    "unique_result_pt_list=set(result_row_list)\n",
    "print(len(unique_result_pt_list))"
   ]
  },
  {
   "cell_type": "code",
   "execution_count": 8,
   "metadata": {},
   "outputs": [
    {
     "data": {
      "text/plain": [
       "205289"
      ]
     },
     "execution_count": 8,
     "metadata": {},
     "output_type": "execute_result"
    }
   ],
   "source": [
    "result_row_list[-1]"
   ]
  },
  {
   "cell_type": "code",
   "execution_count": 9,
   "metadata": {},
   "outputs": [
    {
     "data": {
      "text/html": [
       "<div>\n",
       "<style scoped>\n",
       "    .dataframe tbody tr th:only-of-type {\n",
       "        vertical-align: middle;\n",
       "    }\n",
       "\n",
       "    .dataframe tbody tr th {\n",
       "        vertical-align: top;\n",
       "    }\n",
       "\n",
       "    .dataframe thead th {\n",
       "        text-align: right;\n",
       "    }\n",
       "</style>\n",
       "<table border=\"1\" class=\"dataframe\">\n",
       "  <thead>\n",
       "    <tr style=\"text-align: right;\">\n",
       "      <th></th>\n",
       "      <th>person_id</th>\n",
       "      <th>cancer_type_name</th>\n",
       "      <th>source_type</th>\n",
       "      <th>dxdate</th>\n",
       "      <th>dx_year</th>\n",
       "      <th>dx_month</th>\n",
       "      <th>dx_day</th>\n",
       "      <th>date_of_birth</th>\n",
       "      <th>date_of_death</th>\n",
       "      <th>gender</th>\n",
       "      <th>race</th>\n",
       "      <th>ethnicity</th>\n",
       "      <th>ageatdx</th>\n",
       "    </tr>\n",
       "  </thead>\n",
       "  <tbody>\n",
       "    <tr>\n",
       "      <td>0</td>\n",
       "      <td>2</td>\n",
       "      <td>PCA</td>\n",
       "      <td>ml</td>\n",
       "      <td>1/7/03</td>\n",
       "      <td>2003</td>\n",
       "      <td>1</td>\n",
       "      <td>7</td>\n",
       "      <td>10/15/33</td>\n",
       "      <td>4/22/17 0:00</td>\n",
       "      <td>Male</td>\n",
       "      <td>White</td>\n",
       "      <td>Not Hispanic or Latino</td>\n",
       "      <td>69</td>\n",
       "    </tr>\n",
       "    <tr>\n",
       "      <td>1</td>\n",
       "      <td>11</td>\n",
       "      <td>PCA</td>\n",
       "      <td>ml</td>\n",
       "      <td>3/19/12</td>\n",
       "      <td>2012</td>\n",
       "      <td>3</td>\n",
       "      <td>19</td>\n",
       "      <td>1/22/68</td>\n",
       "      <td></td>\n",
       "      <td>Male</td>\n",
       "      <td>Black or African American</td>\n",
       "      <td>Not Hispanic or Latino</td>\n",
       "      <td>44</td>\n",
       "    </tr>\n",
       "    <tr>\n",
       "      <td>2</td>\n",
       "      <td>12</td>\n",
       "      <td>PCA</td>\n",
       "      <td>ml</td>\n",
       "      <td>10/24/12</td>\n",
       "      <td>2012</td>\n",
       "      <td>10</td>\n",
       "      <td>24</td>\n",
       "      <td>2/9/43</td>\n",
       "      <td></td>\n",
       "      <td>Male</td>\n",
       "      <td>Black or African American</td>\n",
       "      <td>Not Hispanic or Latino</td>\n",
       "      <td>70</td>\n",
       "    </tr>\n",
       "  </tbody>\n",
       "</table>\n",
       "</div>"
      ],
      "text/plain": [
       "   person_id cancer_type_name source_type    dxdate  dx_year dx_month dx_day  \\\n",
       "0          2              PCA          ml    1/7/03     2003        1      7   \n",
       "1         11              PCA          ml   3/19/12     2012        3     19   \n",
       "2         12              PCA          ml  10/24/12     2012       10     24   \n",
       "\n",
       "  date_of_birth date_of_death gender                       race  \\\n",
       "0      10/15/33  4/22/17 0:00   Male                      White   \n",
       "1       1/22/68                 Male  Black or African American   \n",
       "2        2/9/43                 Male  Black or African American   \n",
       "\n",
       "                ethnicity  ageatdx  \n",
       "0  Not Hispanic or Latino       69  \n",
       "1  Not Hispanic or Latino       44  \n",
       "2  Not Hispanic or Latino       70  "
      ]
     },
     "execution_count": 9,
     "metadata": {},
     "output_type": "execute_result"
    }
   ],
   "source": [
    "#result_pt_list\n",
    "df1[:3]"
   ]
  },
  {
   "cell_type": "code",
   "execution_count": 10,
   "metadata": {},
   "outputs": [
    {
     "name": "stdout",
     "output_type": "stream",
     "text": [
      "19382\n",
      "overlapping counts:\n",
      "389\n",
      "overlapping counts:\n",
      "377\n",
      "overlapping counts:\n",
      "376\n"
     ]
    }
   ],
   "source": [
    "df1_grouped=df1.groupby([\"person_id\"]).size().reset_index(name='counts')\n",
    "database_pt_list=df1_grouped[\"person_id\"].to_list()\n",
    "print(len(database_pt_list))\n",
    "\n",
    "intersection_set = set.intersection(set(unique_result_pt_list), set(database_pt_list))\n",
    "print(\"overlapping counts:\")\n",
    "print(len(intersection_set))\n",
    "\n",
    "overlap_list=list(intersection_set)\n",
    "\n",
    "df_gle_grouped=df_gle.groupby([\"person_id\"]).size().reset_index(name='counts')\n",
    "database_pt_list_gle=df_gle_grouped[\"person_id\"].to_list()\n",
    "#unique_result_pt_list \n",
    "intersection_set_gle=set.intersection(set(unique_result_pt_list),set(database_pt_list_gle))\n",
    "print(\"overlapping counts:\")\n",
    "print(len(intersection_set_gle))\n",
    "\n",
    "overlap_list_gle=list(intersection_set_gle)\n",
    "\n",
    "df_imp_grouped=df_imp.groupby([\"person_id\"]).size().reset_index(name='counts')\n",
    "database_pt_list_imp=df_imp_grouped[\"person_id\"].to_list()\n",
    "#unique_result_pt_list \n",
    "intersection_set_imp=set.intersection(set(unique_result_pt_list),set(database_pt_list_imp))\n",
    "print(\"overlapping counts:\")\n",
    "print(len(intersection_set_imp))\n",
    "\n",
    "overlap_list_imp=list(intersection_set_imp)"
   ]
  },
  {
   "cell_type": "code",
   "execution_count": 11,
   "metadata": {
    "scrolled": true
   },
   "outputs": [
    {
     "data": {
      "text/plain": [
       "Index(['person_id', 'cancer_type_name', 'source_type', 'dxdate', 'dx_year',\n",
       "       'dx_month', 'dx_day', 'date_of_birth', 'date_of_death', 'gender',\n",
       "       'race', 'ethnicity', 'ageatdx'],\n",
       "      dtype='object')"
      ]
     },
     "execution_count": 11,
     "metadata": {},
     "output_type": "execute_result"
    }
   ],
   "source": [
    "index_list=df1.columns\n",
    "index_list"
   ]
  },
  {
   "cell_type": "code",
   "execution_count": 12,
   "metadata": {},
   "outputs": [
    {
     "data": {
      "text/plain": [
       "[32774, 10251, 174095, 170000, 182302]"
      ]
     },
     "execution_count": 12,
     "metadata": {},
     "output_type": "execute_result"
    }
   ],
   "source": [
    "overlap_list[:5]"
   ]
  },
  {
   "cell_type": "code",
   "execution_count": 14,
   "metadata": {},
   "outputs": [
    {
     "name": "stdout",
     "output_type": "stream",
     "text": [
      "(19496, 13)\n"
     ]
    }
   ],
   "source": [
    "#delete empty columns\n",
    "print(df1.shape)\n",
    "#del_col=['start_date_source']\n",
    "#for col in del_col:\n",
    "#    del df1[col]\n",
    "#print(df1.shape)"
   ]
  },
  {
   "cell_type": "code",
   "execution_count": 15,
   "metadata": {},
   "outputs": [
    {
     "data": {
      "text/plain": [
       "[339, 345, 345, 345, 435]"
      ]
     },
     "execution_count": 15,
     "metadata": {},
     "output_type": "execute_result"
    }
   ],
   "source": [
    "#for this list of rows get the dx etc info \n",
    "result_row_list[:5]"
   ]
  },
  {
   "cell_type": "code",
   "execution_count": 18,
   "metadata": {},
   "outputs": [],
   "source": [
    "y = 339\n",
    "df1[(df1[\"person_id\"] == y)]\n",
    "Row_list=[]\n",
    "#need a much better approach \n",
    "#for index, rows in df1.iterrows(): \n",
    "    # Create list for the current row \n",
    "    #my_list =[rows.person_id, rows.cancer_type_name, rows.source_type, rows.dxdate, rows.dx_year,\n",
    "     #  rows.dx_month, rows.date_of_birth, rows.date_of_death, rows.gender, rows.race, rows.ethnicity, rows.ageatdx, rows.psa, rows.psa_date] \n",
    "      \n",
    "    # append the list to the final list \n",
    "    #Row_list.append(my_list) "
   ]
  },
  {
   "cell_type": "code",
   "execution_count": 20,
   "metadata": {},
   "outputs": [
    {
     "data": {
      "text/html": [
       "<div>\n",
       "<style scoped>\n",
       "    .dataframe tbody tr th:only-of-type {\n",
       "        vertical-align: middle;\n",
       "    }\n",
       "\n",
       "    .dataframe tbody tr th {\n",
       "        vertical-align: top;\n",
       "    }\n",
       "\n",
       "    .dataframe thead th {\n",
       "        text-align: right;\n",
       "    }\n",
       "</style>\n",
       "<table border=\"1\" class=\"dataframe\">\n",
       "  <thead>\n",
       "    <tr style=\"text-align: right;\">\n",
       "      <th></th>\n",
       "      <th>person_id</th>\n",
       "      <th>cancer_type_name</th>\n",
       "      <th>source_type</th>\n",
       "      <th>dxdate</th>\n",
       "      <th>dx_year</th>\n",
       "      <th>dx_month</th>\n",
       "      <th>dx_day</th>\n",
       "      <th>date_of_birth</th>\n",
       "      <th>date_of_death</th>\n",
       "      <th>gender</th>\n",
       "      <th>race</th>\n",
       "      <th>ethnicity</th>\n",
       "      <th>ageatdx</th>\n",
       "    </tr>\n",
       "  </thead>\n",
       "  <tbody>\n",
       "    <tr>\n",
       "      <td>0</td>\n",
       "      <td>2</td>\n",
       "      <td>PCA</td>\n",
       "      <td>ml</td>\n",
       "      <td>1/7/03</td>\n",
       "      <td>2003</td>\n",
       "      <td>1</td>\n",
       "      <td>7</td>\n",
       "      <td>10/15/33</td>\n",
       "      <td>4/22/17 0:00</td>\n",
       "      <td>Male</td>\n",
       "      <td>White</td>\n",
       "      <td>Not Hispanic or Latino</td>\n",
       "      <td>69</td>\n",
       "    </tr>\n",
       "    <tr>\n",
       "      <td>1</td>\n",
       "      <td>11</td>\n",
       "      <td>PCA</td>\n",
       "      <td>ml</td>\n",
       "      <td>3/19/12</td>\n",
       "      <td>2012</td>\n",
       "      <td>3</td>\n",
       "      <td>19</td>\n",
       "      <td>1/22/68</td>\n",
       "      <td></td>\n",
       "      <td>Male</td>\n",
       "      <td>Black or African American</td>\n",
       "      <td>Not Hispanic or Latino</td>\n",
       "      <td>44</td>\n",
       "    </tr>\n",
       "    <tr>\n",
       "      <td>2</td>\n",
       "      <td>12</td>\n",
       "      <td>PCA</td>\n",
       "      <td>ml</td>\n",
       "      <td>10/24/12</td>\n",
       "      <td>2012</td>\n",
       "      <td>10</td>\n",
       "      <td>24</td>\n",
       "      <td>2/9/43</td>\n",
       "      <td></td>\n",
       "      <td>Male</td>\n",
       "      <td>Black or African American</td>\n",
       "      <td>Not Hispanic or Latino</td>\n",
       "      <td>70</td>\n",
       "    </tr>\n",
       "  </tbody>\n",
       "</table>\n",
       "</div>"
      ],
      "text/plain": [
       "   person_id cancer_type_name source_type    dxdate  dx_year dx_month dx_day  \\\n",
       "0          2              PCA          ml    1/7/03     2003        1      7   \n",
       "1         11              PCA          ml   3/19/12     2012        3     19   \n",
       "2         12              PCA          ml  10/24/12     2012       10     24   \n",
       "\n",
       "  date_of_birth date_of_death gender                       race  \\\n",
       "0      10/15/33  4/22/17 0:00   Male                      White   \n",
       "1       1/22/68                 Male  Black or African American   \n",
       "2        2/9/43                 Male  Black or African American   \n",
       "\n",
       "                ethnicity  ageatdx  \n",
       "0  Not Hispanic or Latino       69  \n",
       "1  Not Hispanic or Latino       44  \n",
       "2  Not Hispanic or Latino       70  "
      ]
     },
     "execution_count": 20,
     "metadata": {},
     "output_type": "execute_result"
    }
   ],
   "source": [
    "df1[:3]"
   ]
  },
  {
   "cell_type": "markdown",
   "metadata": {},
   "source": [
    "# grep dx etc info status only for the pts and in the row listed <a class=\"anchor\" id=\"second-bullet\"></a>"
   ]
  },
  {
   "cell_type": "code",
   "execution_count": 25,
   "metadata": {},
   "outputs": [],
   "source": [
    "result_list=[]\n",
    "\n",
    "#database_pt_list\n",
    "\n",
    "for y in result_row_list:\n",
    "#for y in [11]:\n",
    "    df1_pt=df1[(df1[\"person_id\"] == y)]\n",
    "    #pt_drug_list=df1_pt.cancer_drug.to_list()[0]\n",
    "    \n",
    "    if y not in overlap_list: \n",
    "        df1_pt=df1[(df1[\"person_id\"] == y)]\n",
    "        \n",
    "        person_id=y\n",
    "        cancer_type_name='NaN'\n",
    "        source_type='NaN'\n",
    "        dxdate='NaN'\n",
    "        dx_year='NaN'\n",
    "        dx_month='NaN'\n",
    "        dx_day='NaN'\n",
    "        date_of_birth='NaN'\n",
    "        date_of_death='NaN'\n",
    "        gender='NaN'\n",
    "        race='NaN'\n",
    "        ethnicity='NaN'\n",
    "        ageatdx='NaN'\n",
    "        psa='NaN'\n",
    "        psa_date='NaN'\n",
    "            \n",
    "    if y in overlap_list:             \n",
    "        df1_pt=df1[(df1[\"person_id\"] == y)]\n",
    "        \n",
    "        person_id=y\n",
    "        cancer_type_name=df1_pt.cancer_type_name.to_list()[0] \n",
    "        source_type=df1_pt.source_type.to_list()[0]\n",
    "        dxdate= df1_pt.dxdate.to_list()[0]\n",
    "        dx_year=df1_pt.dx_year.to_list()[0]\n",
    "        dx_month=df1_pt.dx_month.to_list()[0]\n",
    "        dx_day=df1_pt.dx_day.to_list()[0]\n",
    "        \n",
    "        date_of_birth=df1_pt.date_of_birth.to_list()[0]\n",
    "        date_of_death=df1_pt.date_of_death.to_list()[0]\n",
    "        gender=df1_pt.gender.to_list()[0]\n",
    "        race=df1_pt.race.to_list()[0]\n",
    "        ethnicity=df1_pt.ethnicity.to_list()[0]\n",
    "        ageatdx=df1_pt.ageatdx.to_list()[0]\n",
    "#        psa=df1_pt.psa.to_list()[0]\n",
    "#        psa_date=df1_pt.psa_date.to_list()[0]\n",
    "\n",
    "    result_per_pt=[person_id,cancer_type_name,source_type,dxdate,ageatdx,dx_year,dx_month,dx_day, date_of_birth,date_of_death,gender,race,ethnicity] \n",
    "    result_list.append(result_per_pt)"
   ]
  },
  {
   "cell_type": "code",
   "execution_count": 26,
   "metadata": {},
   "outputs": [],
   "source": [
    "df_results=pd.DataFrame(result_list)\n",
    "df_results.columns=(['person_id', 'cancer_type_name', 'source_type', 'dxdate','ageatdx', 'dx_year',\n",
    "       'dx_month', 'dx_day','date_of_birth', 'date_of_death', 'gender', 'race',\n",
    "       'ethnicity'])"
   ]
  },
  {
   "cell_type": "code",
   "execution_count": 27,
   "metadata": {},
   "outputs": [
    {
     "data": {
      "text/html": [
       "<div>\n",
       "<style scoped>\n",
       "    .dataframe tbody tr th:only-of-type {\n",
       "        vertical-align: middle;\n",
       "    }\n",
       "\n",
       "    .dataframe tbody tr th {\n",
       "        vertical-align: top;\n",
       "    }\n",
       "\n",
       "    .dataframe thead th {\n",
       "        text-align: right;\n",
       "    }\n",
       "</style>\n",
       "<table border=\"1\" class=\"dataframe\">\n",
       "  <thead>\n",
       "    <tr style=\"text-align: right;\">\n",
       "      <th></th>\n",
       "      <th>person_id</th>\n",
       "      <th>cancer_type_name</th>\n",
       "      <th>source_type</th>\n",
       "      <th>dxdate</th>\n",
       "      <th>ageatdx</th>\n",
       "      <th>dx_year</th>\n",
       "      <th>dx_month</th>\n",
       "      <th>dx_day</th>\n",
       "      <th>date_of_birth</th>\n",
       "      <th>date_of_death</th>\n",
       "      <th>gender</th>\n",
       "      <th>race</th>\n",
       "      <th>ethnicity</th>\n",
       "    </tr>\n",
       "  </thead>\n",
       "  <tbody>\n",
       "    <tr>\n",
       "      <td>0</td>\n",
       "      <td>339</td>\n",
       "      <td>PCA</td>\n",
       "      <td>ml</td>\n",
       "      <td>2/3/16</td>\n",
       "      <td>72</td>\n",
       "      <td>2016</td>\n",
       "      <td>2</td>\n",
       "      <td>3</td>\n",
       "      <td>4/23/44</td>\n",
       "      <td></td>\n",
       "      <td>Male</td>\n",
       "      <td>Other</td>\n",
       "      <td>Not Hispanic or Latino</td>\n",
       "    </tr>\n",
       "    <tr>\n",
       "      <td>1</td>\n",
       "      <td>345</td>\n",
       "      <td>PCA</td>\n",
       "      <td>ml</td>\n",
       "      <td>4/24/18</td>\n",
       "      <td>64</td>\n",
       "      <td>2018</td>\n",
       "      <td>4</td>\n",
       "      <td>24</td>\n",
       "      <td>5/22/54</td>\n",
       "      <td></td>\n",
       "      <td>Male</td>\n",
       "      <td>Other</td>\n",
       "      <td>Hispanic or Latino</td>\n",
       "    </tr>\n",
       "    <tr>\n",
       "      <td>2</td>\n",
       "      <td>345</td>\n",
       "      <td>PCA</td>\n",
       "      <td>ml</td>\n",
       "      <td>4/24/18</td>\n",
       "      <td>64</td>\n",
       "      <td>2018</td>\n",
       "      <td>4</td>\n",
       "      <td>24</td>\n",
       "      <td>5/22/54</td>\n",
       "      <td></td>\n",
       "      <td>Male</td>\n",
       "      <td>Other</td>\n",
       "      <td>Hispanic or Latino</td>\n",
       "    </tr>\n",
       "  </tbody>\n",
       "</table>\n",
       "</div>"
      ],
      "text/plain": [
       "   person_id cancer_type_name source_type   dxdate ageatdx dx_year dx_month  \\\n",
       "0        339              PCA          ml   2/3/16      72    2016        2   \n",
       "1        345              PCA          ml  4/24/18      64    2018        4   \n",
       "2        345              PCA          ml  4/24/18      64    2018        4   \n",
       "\n",
       "  dx_day date_of_birth date_of_death gender   race               ethnicity  \n",
       "0      3       4/23/44                 Male  Other  Not Hispanic or Latino  \n",
       "1     24       5/22/54                 Male  Other      Hispanic or Latino  \n",
       "2     24       5/22/54                 Male  Other      Hispanic or Latino  "
      ]
     },
     "execution_count": 27,
     "metadata": {},
     "output_type": "execute_result"
    }
   ],
   "source": [
    "df_results[:3]"
   ]
  },
  {
   "cell_type": "code",
   "execution_count": 313,
   "metadata": {},
   "outputs": [
    {
     "name": "stdout",
     "output_type": "stream",
     "text": [
      "899\n"
     ]
    }
   ],
   "source": [
    "print(shape(df_results)[0])"
   ]
  },
  {
   "cell_type": "code",
   "execution_count": 28,
   "metadata": {},
   "outputs": [],
   "source": [
    "df_results.to_csv(\"./data/pca_pts_399pts_results_dx_results_Mar05.csv\", encoding='utf-8', index=False)"
   ]
  },
  {
   "cell_type": "code",
   "execution_count": 29,
   "metadata": {},
   "outputs": [
    {
     "name": "stdout",
     "output_type": "stream",
     "text": [
      "899\n"
     ]
    },
    {
     "data": {
      "text/plain": [
       "[339, 345, 345, 345, 435]"
      ]
     },
     "execution_count": 29,
     "metadata": {},
     "output_type": "execute_result"
    }
   ],
   "source": [
    "print(len(result_row_list))\n",
    "result_row_list[:5]"
   ]
  },
  {
   "cell_type": "markdown",
   "metadata": {},
   "source": [
    "# Gleason_scores <a class=\"anchor\" id=\"third-bullet\"></a>"
   ]
  },
  {
   "cell_type": "code",
   "execution_count": 30,
   "metadata": {},
   "outputs": [
    {
     "data": {
      "text/html": [
       "<div>\n",
       "<style scoped>\n",
       "    .dataframe tbody tr th:only-of-type {\n",
       "        vertical-align: middle;\n",
       "    }\n",
       "\n",
       "    .dataframe tbody tr th {\n",
       "        vertical-align: top;\n",
       "    }\n",
       "\n",
       "    .dataframe thead th {\n",
       "        text-align: right;\n",
       "    }\n",
       "</style>\n",
       "<table border=\"1\" class=\"dataframe\">\n",
       "  <thead>\n",
       "    <tr style=\"text-align: right;\">\n",
       "      <th></th>\n",
       "      <th>person_id</th>\n",
       "      <th>cancer_type_id</th>\n",
       "      <th>year_of_diagnosis</th>\n",
       "      <th>month_of_diagnosis</th>\n",
       "      <th>day_of_diagnosis</th>\n",
       "      <th>gleason_score</th>\n",
       "      <th>psa</th>\n",
       "      <th>psa_date</th>\n",
       "    </tr>\n",
       "  </thead>\n",
       "  <tbody>\n",
       "    <tr>\n",
       "      <td>0</td>\n",
       "      <td>267</td>\n",
       "      <td>2</td>\n",
       "      <td>2015</td>\n",
       "      <td>4</td>\n",
       "      <td>3</td>\n",
       "      <td>9</td>\n",
       "      <td></td>\n",
       "      <td></td>\n",
       "    </tr>\n",
       "    <tr>\n",
       "      <td>1</td>\n",
       "      <td>339</td>\n",
       "      <td>2</td>\n",
       "      <td>2015</td>\n",
       "      <td>11</td>\n",
       "      <td>9</td>\n",
       "      <td>7</td>\n",
       "      <td></td>\n",
       "      <td></td>\n",
       "    </tr>\n",
       "    <tr>\n",
       "      <td>2</td>\n",
       "      <td>345</td>\n",
       "      <td>2</td>\n",
       "      <td>2018</td>\n",
       "      <td>4</td>\n",
       "      <td>24</td>\n",
       "      <td>7</td>\n",
       "      <td></td>\n",
       "      <td></td>\n",
       "    </tr>\n",
       "  </tbody>\n",
       "</table>\n",
       "</div>"
      ],
      "text/plain": [
       "   person_id  cancer_type_id  year_of_diagnosis month_of_diagnosis  \\\n",
       "0        267               2               2015                  4   \n",
       "1        339               2               2015                 11   \n",
       "2        345               2               2018                  4   \n",
       "\n",
       "  day_of_diagnosis gleason_score psa psa_date  \n",
       "0                3             9               \n",
       "1                9             7               \n",
       "2               24             7               "
      ]
     },
     "execution_count": 30,
     "metadata": {},
     "output_type": "execute_result"
    }
   ],
   "source": [
    "df_gle[:3]"
   ]
  },
  {
   "cell_type": "code",
   "execution_count": 36,
   "metadata": {},
   "outputs": [],
   "source": [
    "result_list_gle=[]\n",
    "\n",
    "for y in result_row_list:\n",
    "#for y in [339]:\n",
    "    #df_gle_pt=df_gle[(df_gle[\"person_id\"] == y)]\n",
    "    #pt_drug_list=df1_pt.cancer_drug.to_list()[0]\n",
    "    \n",
    "    if y not in overlap_list_gle: \n",
    "        #df_gle_pt=df_gle[(df_gle[\"person_id\"] == y)]\n",
    "        \n",
    "        person_id=y\n",
    "        gleanson='NaN'\n",
    "            \n",
    "    if y in overlap_list_gle:\n",
    "        df_gle_pt=df_gle[(df_gle[\"person_id\"] == y)]\n",
    "        \n",
    "        person_id=y\n",
    "        gleanson = df_gle_pt.gleason_score.to_list()[0]\n",
    "        \n",
    "    #print(y,gleanson)    \n",
    "    result_per_pt_gle=[person_id,gleanson] \n",
    "    result_list_gle.append(result_per_pt_gle)"
   ]
  },
  {
   "cell_type": "code",
   "execution_count": 37,
   "metadata": {},
   "outputs": [
    {
     "data": {
      "text/html": [
       "<div>\n",
       "<style scoped>\n",
       "    .dataframe tbody tr th:only-of-type {\n",
       "        vertical-align: middle;\n",
       "    }\n",
       "\n",
       "    .dataframe tbody tr th {\n",
       "        vertical-align: top;\n",
       "    }\n",
       "\n",
       "    .dataframe thead th {\n",
       "        text-align: right;\n",
       "    }\n",
       "</style>\n",
       "<table border=\"1\" class=\"dataframe\">\n",
       "  <thead>\n",
       "    <tr style=\"text-align: right;\">\n",
       "      <th></th>\n",
       "      <th>person_id</th>\n",
       "      <th>imputed_stage</th>\n",
       "    </tr>\n",
       "  </thead>\n",
       "  <tbody>\n",
       "    <tr>\n",
       "      <td>0</td>\n",
       "      <td>267</td>\n",
       "      <td>III</td>\n",
       "    </tr>\n",
       "    <tr>\n",
       "      <td>1</td>\n",
       "      <td>339</td>\n",
       "      <td>III</td>\n",
       "    </tr>\n",
       "    <tr>\n",
       "      <td>2</td>\n",
       "      <td>345</td>\n",
       "      <td>IIIB</td>\n",
       "    </tr>\n",
       "  </tbody>\n",
       "</table>\n",
       "</div>"
      ],
      "text/plain": [
       "   person_id imputed_stage\n",
       "0        267           III\n",
       "1        339           III\n",
       "2        345          IIIB"
      ]
     },
     "execution_count": 37,
     "metadata": {},
     "output_type": "execute_result"
    }
   ],
   "source": [
    "df_imp[:3]"
   ]
  },
  {
   "cell_type": "code",
   "execution_count": 38,
   "metadata": {},
   "outputs": [
    {
     "data": {
      "text/html": [
       "<div>\n",
       "<style scoped>\n",
       "    .dataframe tbody tr th:only-of-type {\n",
       "        vertical-align: middle;\n",
       "    }\n",
       "\n",
       "    .dataframe tbody tr th {\n",
       "        vertical-align: top;\n",
       "    }\n",
       "\n",
       "    .dataframe thead th {\n",
       "        text-align: right;\n",
       "    }\n",
       "</style>\n",
       "<table border=\"1\" class=\"dataframe\">\n",
       "  <thead>\n",
       "    <tr style=\"text-align: right;\">\n",
       "      <th></th>\n",
       "      <th>person_id</th>\n",
       "      <th>Gleason_Score</th>\n",
       "    </tr>\n",
       "  </thead>\n",
       "  <tbody>\n",
       "    <tr>\n",
       "      <td>0</td>\n",
       "      <td>339</td>\n",
       "      <td>7</td>\n",
       "    </tr>\n",
       "    <tr>\n",
       "      <td>1</td>\n",
       "      <td>345</td>\n",
       "      <td>7</td>\n",
       "    </tr>\n",
       "    <tr>\n",
       "      <td>2</td>\n",
       "      <td>345</td>\n",
       "      <td>7</td>\n",
       "    </tr>\n",
       "  </tbody>\n",
       "</table>\n",
       "</div>"
      ],
      "text/plain": [
       "   person_id Gleason_Score\n",
       "0        339             7\n",
       "1        345             7\n",
       "2        345             7"
      ]
     },
     "execution_count": 38,
     "metadata": {},
     "output_type": "execute_result"
    }
   ],
   "source": [
    "df_results_gle=pd.DataFrame(result_list_gle)\n",
    "df_results_gle.columns=(['person_id', 'Gleason_Score'])\n",
    "df_results_gle[:3]"
   ]
  },
  {
   "cell_type": "code",
   "execution_count": 39,
   "metadata": {},
   "outputs": [],
   "source": [
    "df_results_gle.to_csv(\"./data/pca_pts_399pts_results_gleason_Mar04.csv\", encoding='utf-8', index=False)"
   ]
  },
  {
   "cell_type": "markdown",
   "metadata": {},
   "source": [
    "# Imputed stages <a class=\"anchor\" id=\"third-bullet\"></a>"
   ]
  },
  {
   "cell_type": "code",
   "execution_count": 42,
   "metadata": {},
   "outputs": [],
   "source": [
    "result_list_imp=[]\n",
    "#database_pt_list\n",
    "\n",
    "for y in result_row_list:\n",
    "#for y in [11]:\n",
    "\n",
    "    if y not in overlap_list_imp: \n",
    "        df_imp_pt= df_imp[(df_imp[\"person_id\"] == y)]\n",
    "        \n",
    "        person_id=y\n",
    "        imputed='NaN'\n",
    "            \n",
    "    if y in overlap_list_imp:\n",
    "        df_imp_pt= df_imp[(df_imp[\"person_id\"] == y)]\n",
    "        \n",
    "        person_id=y\n",
    "        imputed= df_imp_pt.imputed_stage.to_list()[0]\n",
    "        \n",
    "    #print(y,imputed)\n",
    "    result_per_pt_imp=[person_id,imputed] \n",
    "    result_list_imp.append(result_per_pt_imp)"
   ]
  },
  {
   "cell_type": "code",
   "execution_count": 43,
   "metadata": {},
   "outputs": [
    {
     "data": {
      "text/html": [
       "<div>\n",
       "<style scoped>\n",
       "    .dataframe tbody tr th:only-of-type {\n",
       "        vertical-align: middle;\n",
       "    }\n",
       "\n",
       "    .dataframe tbody tr th {\n",
       "        vertical-align: top;\n",
       "    }\n",
       "\n",
       "    .dataframe thead th {\n",
       "        text-align: right;\n",
       "    }\n",
       "</style>\n",
       "<table border=\"1\" class=\"dataframe\">\n",
       "  <thead>\n",
       "    <tr style=\"text-align: right;\">\n",
       "      <th></th>\n",
       "      <th>person_id</th>\n",
       "      <th>imputed_stage</th>\n",
       "    </tr>\n",
       "  </thead>\n",
       "  <tbody>\n",
       "    <tr>\n",
       "      <td>0</td>\n",
       "      <td>267</td>\n",
       "      <td>III</td>\n",
       "    </tr>\n",
       "    <tr>\n",
       "      <td>1</td>\n",
       "      <td>339</td>\n",
       "      <td>III</td>\n",
       "    </tr>\n",
       "    <tr>\n",
       "      <td>2</td>\n",
       "      <td>345</td>\n",
       "      <td>IIIB</td>\n",
       "    </tr>\n",
       "  </tbody>\n",
       "</table>\n",
       "</div>"
      ],
      "text/plain": [
       "   person_id imputed_stage\n",
       "0        267           III\n",
       "1        339           III\n",
       "2        345          IIIB"
      ]
     },
     "execution_count": 43,
     "metadata": {},
     "output_type": "execute_result"
    }
   ],
   "source": [
    "y=11\n",
    "df_imp[:3]"
   ]
  },
  {
   "cell_type": "code",
   "execution_count": 44,
   "metadata": {},
   "outputs": [
    {
     "data": {
      "text/plain": [
       "899"
      ]
     },
     "execution_count": 44,
     "metadata": {},
     "output_type": "execute_result"
    }
   ],
   "source": [
    "df_results_imp=pd.DataFrame(result_list_imp)\n",
    "df_results_imp.columns=(['person_id', 'Imputed_stage'])\n",
    "len(df_results_imp)\n",
    "len(df_results_gle)"
   ]
  },
  {
   "cell_type": "code",
   "execution_count": 45,
   "metadata": {},
   "outputs": [],
   "source": [
    "df_results_imp.to_csv(\"./data/pca_pts_399pts_results_imputed_stage_Mar04pm.csv\", encoding='utf-8', index=False)"
   ]
  },
  {
   "cell_type": "code",
   "execution_count": 46,
   "metadata": {},
   "outputs": [],
   "source": [
    "#combined=pd.merge(df_results_gle, df_results_imp, on='person_id')\n",
    "#combined[998:999\n",
    "#merged=df_results_gle.merge(df_results_imp, on='person_id')\n",
    "#len(merged)"
   ]
  }
 ],
 "metadata": {
  "kernelspec": {
   "display_name": "Python 3",
   "language": "python",
   "name": "python3"
  },
  "language_info": {
   "codemirror_mode": {
    "name": "ipython",
    "version": 3
   },
   "file_extension": ".py",
   "mimetype": "text/x-python",
   "name": "python",
   "nbconvert_exporter": "python",
   "pygments_lexer": "ipython3",
   "version": "3.7.4"
  }
 },
 "nbformat": 4,
 "nbformat_minor": 2
}
